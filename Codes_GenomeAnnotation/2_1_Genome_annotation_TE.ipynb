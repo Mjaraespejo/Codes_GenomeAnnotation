{
 "cells": [
  {
   "cell_type": "markdown",
   "id": "c6fec5d8-e6e1-4656-a6ee-7c747afcaaa2",
   "metadata": {},
   "source": [
    "# 2-1-Genome_annotation_TEs \n",
    "Manuel Jara-Espejo$^{1}$\\\n",
    "Aboobaker lab, Department of Biology, University of Oxford\n",
    "\n",
    "## Contents of notebook\n",
    "1. Introduction\n",
    "2. Identification and annotation of repetitve elements in *Phaw5.1* assembly\n",
    "3. Assign TE famyli ID to each annotated TE element \n",
    "4. TE distribution in Phaw5.1 genome"
   ]
  },
  {
   "cell_type": "markdown",
   "id": "f658c0b6-1a87-49fe-b1ca-165faf3284b1",
   "metadata": {},
   "source": [
    "### 1. Introduction"
   ]
  },
  {
   "cell_type": "markdown",
   "id": "18a2ae6e-a872-42fc-bc6c-018b7acb6a17",
   "metadata": {},
   "source": [
    "### 2. Identification and annotation of repetitve elements in *Phaw5.1* assembly"
   ]
  },
  {
   "cell_type": "code",
   "execution_count": null,
   "id": "987bb7d9-72c3-403f-9cd1-0188346fc3d2",
   "metadata": {},
   "outputs": [],
   "source": [
    "%%bash\n",
    "#cd /drives/ssd1/manuel/phaw/2022_analysis/annotation/repetetive_elements/\n",
    "\n",
    "#Build database\n",
    "/drives/raid/AboobakerLab/software/RepeatModeler-2.0.2a/BuildDatabase -name phaw_sambaAsm.DB -engine rmblast /drives/ssd1/manuel/phaw/2022_analysis/phaw_gapfilling/TGS-GapCloser_anlysis/results_sambaAsm/change_scafNames/phaw_sambaAsm.scaff_seqs_editedScafNames.fa\n",
    "\n",
    "#Run RepeatModeler\n",
    "nohup /drives/raid/AboobakerLab/software/RepeatModeler-2.0.2a/RepeatModeler -database phaw_sambaAsm.DB -engine ncbi -pa 16 > repeatModeler.out 2>&1 & \n",
    "\n",
    "#Run Repeat Masking \n",
    "nohup /drives/raid/AboobakerLab/software/RepeatMasker/RepeatMasker -dir . -pa 16 -gff -lib ./RM_317837.MonJul41113502022/consensi.fa.classified  /drives/ssd1/manuel/phaw/2022_analysis/phaw_gapfilling/TGS-GapCloser_anlysis/results_sambaAsm/change_scafNames/phaw_sambaAsm.scaff_seqs_editedScafNames.fa > repeatMasking.out 2>&1 &"
   ]
  },
  {
   "cell_type": "code",
   "execution_count": 1,
   "id": "dc9f548a-edde-4b8f-92be-f4063c036c01",
   "metadata": {},
   "outputs": [
    {
     "name": "stdout",
     "output_type": "stream",
     "text": [
      "==================================================\n",
      "file name: phaw_sambaAsm.scaff_seqs_editedScafNames.fa\n",
      "sequences:        280585\n",
      "total length: 2823710058 bp  (2731003535 bp excl N/X-runs)\n",
      "GC level:         41.27 %\n",
      "bases masked: 1596874276 bp ( 56.55 %)\n",
      "==================================================\n",
      "               number of      length   percentage\n",
      "               elements*    occupied  of sequence\n",
      "--------------------------------------------------\n",
      "Retroelements       692645    358214746 bp   12.69 %\n",
      "   SINEs:                0            0 bp    0.00 %\n",
      "   Penelope         111526     45187488 bp    1.60 %\n",
      "   LINEs:           644713    332658947 bp   11.78 %\n",
      "    CRE/SLACS          738       477092 bp    0.02 %\n",
      "     L2/CR1/Rex     339488    193383413 bp    6.85 %\n",
      "     R1/LOA/Jockey   40331     21033146 bp    0.74 %\n",
      "     R2/R4/NeSL      10895      8043685 bp    0.28 %\n",
      "     RTE/Bov-B       16202      7741164 bp    0.27 %\n",
      "     L1/CIN4             0            0 bp    0.00 %\n",
      "   LTR elements:     47932     25555799 bp    0.91 %\n",
      "     BEL/Pao         12642      7527752 bp    0.27 %\n",
      "     Ty1/Copia        1681      1147177 bp    0.04 %\n",
      "     Gypsy/DIRS1     31870     15940860 bp    0.56 %\n",
      "       Retroviral        0            0 bp    0.00 %\n",
      "\n",
      "DNA transposons     315692    119447352 bp    4.23 %\n",
      "   hobo-Activator    42018     13228638 bp    0.47 %\n",
      "   Tc1-IS630-Pogo   232663     90035972 bp    3.19 %\n",
      "   En-Spm                0            0 bp    0.00 %\n",
      "   MuDR-IS905            0            0 bp    0.00 %\n",
      "   PiggyBac           5569      1796569 bp    0.06 %\n",
      "   Tourist/Harbinger  8346      1791726 bp    0.06 %\n",
      "   Other (Mirage,     3044      1121627 bp    0.04 %\n",
      "    P-element, Transib)\n",
      "\n",
      "Rolling-circles      40890      5050804 bp    0.18 %\n",
      "\n",
      "Unclassified:       4775697   1094222968 bp   38.75 %\n",
      "\n",
      "Total interspersed repeats:  1571885066 bp   55.67 %\n",
      "\n",
      "\n",
      "Small RNA:               0            0 bp    0.00 %\n",
      "\n",
      "Satellites:           4697       661328 bp    0.02 %\n",
      "Simple repeats:     323041     18416313 bp    0.65 %\n",
      "Low complexity:      17107       860765 bp    0.03 %\n",
      "==================================================\n",
      "\n",
      "* most repeats fragmented by insertions or deletions\n",
      "  have been counted as one element\n",
      "                                                      \n",
      "\n",
      "RepeatMasker version 4.1.2-p1 , default mode\n",
      "                                     \n",
      "run with rmblastn version 2.11.0+\n",
      "The query was compared to classified sequences in \".../consensi.fa.classified\"\n",
      "FamDB: \n"
     ]
    }
   ],
   "source": [
    "%%bash\n",
    "\n",
    "#Phaw5.1 repeatome - Output table with basic stats\n",
    "cat /drives/raid/AboobakerLab/manuel/data_phaw_analysis/repeats_gapFilledAsm/phaw_sambaAsm.scaff_seqs_editedScafNames.fa.tbl"
   ]
  },
  {
   "cell_type": "code",
   "execution_count": 3,
   "id": "5694f1ae-8bb6-442b-bc18-b7418cf79f73",
   "metadata": {},
   "outputs": [
    {
     "name": "stdout",
     "output_type": "stream",
     "text": [
      "##gff-version 2\n",
      "##date 2022-07-05\n",
      "##sequence-region phaw_sambaAsm.scaff_seqs_editedScafNames.fa\n",
      "Scaffold_100000_HRSCAF_104010\tRepeatMasker\tsimilarity\t2\t158\t10.2\t+\t.\tTarget \"Motif:rnd-5_family-509\" 1133 1293\n",
      "Scaffold_100000_HRSCAF_104010\tRepeatMasker\tsimilarity\t155\t512\t 3.6\t-\t.\tTarget \"Motif:rnd-1_family-797\" 98 455\n",
      "Scaffold_100001_HRSCAF_104011\tRepeatMasker\tsimilarity\t7\t338\t28.1\t+\t.\tTarget \"Motif:rnd-1_family-425\" 451 776\n",
      "Scaffold_100001_HRSCAF_104011\tRepeatMasker\tsimilarity\t336\t400\t 0.0\t+\t.\tTarget \"Motif:rnd-1_family-866\" 338 402\n",
      "Scaffold_100001_HRSCAF_104011\tRepeatMasker\tsimilarity\t400\t512\t 2.7\t-\t.\tTarget \"Motif:rnd-1_family-608\" 3645 3756\n",
      "Scaffold_100002_HRSCAF_104012\tRepeatMasker\tsimilarity\t1\t39\t 2.6\t+\t.\tTarget \"Motif:rnd-1_family-560\" 221 259\n",
      "Scaffold_100002_HRSCAF_104012\tRepeatMasker\tsimilarity\t44\t257\t 8.9\t+\t.\tTarget \"Motif:rnd-1_family-867\" 1 226\n"
     ]
    }
   ],
   "source": [
    "%%bash \n",
    "#Phaw5.1 repeatome - Output GTF annotation file\n",
    "cat /drives/raid/AboobakerLab/manuel/data_phaw_analysis/repeats_gapFilledAsm/phaw_sambaAsm.scaff_seqs_editedScafNames.fa.out.gff | head -10"
   ]
  },
  {
   "cell_type": "markdown",
   "id": "e7ea2419-7da9-4887-adae-c0ab2f3fffac",
   "metadata": {},
   "source": [
    "### 3. Assign TE famyli ID to each annotated TE element "
   ]
  },
  {
   "cell_type": "code",
   "execution_count": 3,
   "id": "5ef468aa-d968-410c-a496-e16596aa17e2",
   "metadata": {},
   "outputs": [
    {
     "name": "stdout",
     "output_type": "stream",
     "text": [
      "count= 1\n",
      "\n",
      "File.open(\"/drives/raid/AboobakerLab/manuel/data_phaw_analysis/repeats_gapFilledAsm/phaw_sambaAsm.scaff_seqs_editedScafNames.fa.out.gff\",\"r\").each do |line|\n",
      "    if line[0] != \"#\"\n",
      "        te_id = \"TE_#{count}\" #Simple TE id, used later to merge\n",
      "        target_id = line.chomp.split(\"\\t\")[8] #Broad familiy  ID assigned during annotation.\n",
      "        \n",
      "#Since I used SalmonTE to quantify expression, I changed the ID identifier to the oned generated by the tool: scaff+start+end (range=Scaffold_100000_HRSCAF_104010:1-158)\n",
      "        \n",
      "        te_id = line.chomp.split(\"\\t\")[0] + \":\" + (line.chomp.split(\"\\t\")[3].to_i - 1).to_s + \":\" + line.chomp.split(\"\\t\")[4]\n",
      "\n",
      "        puts target_id.split(\"\\\"\")[1].gsub(\"Motif:\",\"\") + \"\\t\" + te_id\n",
      "        count +=1\n",
      "    end\n",
      "end"
     ]
    }
   ],
   "source": [
    "%%bash\n",
    "\n",
    "#1. Use getTEn_familyRM.rb to get a table containing:\n",
    "#    TE number, assigned using getTEn_familyRM.rb script (i.e TE_1)\n",
    "#    TE family, assigned using RepeatMasking (i.e rnd-5_family-638 )\n",
    "#    Output file TEnumber_TE_RMid.txt, containing 5690059 out of 5935576 TE assigned to families\n",
    "\n",
    "cat /drives/ssd1/manuel/phaw/2022_analysis/te_analysis/te_expression/getTEn_familyRM.rb "
   ]
  },
  {
   "cell_type": "code",
   "execution_count": 6,
   "id": "3b721313-d4bb-4fd7-889c-69570d10712a",
   "metadata": {},
   "outputs": [
    {
     "name": "stdout",
     "output_type": "stream",
     "text": [
      "rnd-5_family-509\tScaffold_100000_HRSCAF_104010:1:158\n",
      "rnd-1_family-797\tScaffold_100000_HRSCAF_104010:154:512\n",
      "rnd-1_family-425\tScaffold_100001_HRSCAF_104011:6:338\n",
      "rnd-1_family-866\tScaffold_100001_HRSCAF_104011:335:400\n",
      "rnd-1_family-608\tScaffold_100001_HRSCAF_104011:399:512\n"
     ]
    }
   ],
   "source": [
    "%%bash\n",
    "head -5 /drives/ssd1/manuel/phaw/2022_analysis/te_analysis/te_expression/TEnumber_TE_RMid.txt"
   ]
  },
  {
   "cell_type": "code",
   "execution_count": 8,
   "id": "f22809b6-c631-4823-9579-e4c19b24b425",
   "metadata": {},
   "outputs": [
    {
     "name": "stdout",
     "output_type": "stream",
     "text": [
      "count= 1\n",
      "\n",
      "File.open(\"/drives/raid/AboobakerLab/manuel/data_phaw_analysis/repeats_gapFilledAsm/phaw_sambaAsm.DB-families.fa\",\"r\").each do |line|\n",
      "    \n",
      "    #Use onlye fasta seqeunces header to get info: \n",
      "    #>rnd-1_family-321#LINE/L2 ( RepeatScout Family Size = 297, Final Multiple Alignment Size = 100, Localized to 3474 out of 4163     contigs )\n",
      "    \n",
      "    if line[0] == \">\"\n",
      "        puts line.split[0].split(\"#\")[0][1..-1] + \"\\t\" + line.split[0].split(\"#\")[1]\n",
      "    end\n",
      "end\n",
      "\n",
      "#phaw_sambaAsm.DB-families.fa contains consensus sequences for each family annotated (RepeatMasking), as well as their putative homologous family in RepBase"
     ]
    }
   ],
   "source": [
    "%%bash \n",
    "#2. Use getfamilyRM_Class.rb to get a table containing:\n",
    "#    TE family, assigned using RepeatMasking (i.e rnd-5_family-638)\n",
    "#    TE family assigned from RepBase (i.e LINE)\n",
    "#    Output TE_RMid_RepBase.txt, 3848 families. 3130 are unknown families\n",
    "cat /drives/ssd1/manuel/phaw/2022_analysis/te_analysis/te_expression/getfamilyRM_Class.rb "
   ]
  },
  {
   "cell_type": "code",
   "execution_count": 12,
   "id": "101cdc96-b18f-4144-bf6a-dccd3b5c6f83",
   "metadata": {},
   "outputs": [
    {
     "name": "stdout",
     "output_type": "stream",
     "text": [
      "RepeatMasker_Id\tMyId\tRepBaseId\n",
      "rnd-1_family-0\tScaffold_100013_HRSCAF_104023:346:374\tUnknown\n",
      "rnd-1_family-0\tScaffold_100032_HRSCAF_104042:216:512\tUnknown\n",
      "rnd-1_family-0\tScaffold_100414_HRSCAF_104425:136:229\tUnknown\n",
      "rnd-1_family-0\tScaffold_100_HRSCAF_734:43181:43270\tUnknown\n",
      "rnd-1_family-0\tScaffold_101355_HRSCAF_105366:263:507\tUnknown\n"
     ]
    }
   ],
   "source": [
    "%%bash\n",
    "#3. Merge both ouput files based on TE_id using:\n",
    "#    join <(sort TEnumber_TE_RMid.txt) <(sort TE_RMid_RepBase.txt) -t $'\\t' > TE_Id_Family_full.txt. \n",
    "\n",
    "#Not all TE_ids belonged to families annotated based on RepDB, that's why the final set of TE is slightly shorter (5690059 out of 5935576)\n",
    "echo -e \"RepeatMasker_Id\\tMyId\\tRepBaseId\" \n",
    "head -5 /drives/ssd1/manuel/phaw/2022_analysis/te_analysis/te_expression/TE_Id_Family_full.txt"
   ]
  },
  {
   "cell_type": "markdown",
   "id": "6fa2b601-1f10-4677-9708-625247b3a4cb",
   "metadata": {},
   "source": [
    "### 4. TE distribution in Phaw5.1 genome"
   ]
  },
  {
   "cell_type": "markdown",
   "id": "e821d3bc-7a01-4276-b324-c879fdafb4f3",
   "metadata": {},
   "source": [
    "##### 3.1 Intersect TE annotetion with gene annotation files. Output will be bed files containing exonic-, intronic- and intergeniC-TEs."
   ]
  },
  {
   "cell_type": "code",
   "execution_count": 16,
   "id": "7c64e1bc-cc68-452c-b8de-e0118ca600c6",
   "metadata": {},
   "outputs": [
    {
     "name": "stdout",
     "output_type": "stream",
     "text": [
      "Scaffold_100000_HRSCAF_104010\t1\t158\t.\t10.2\t+\tRepeatMasker\tsimilarity\t.\tTarget \"Motif:rnd-5_family-509\" 1133 1293\n",
      "Scaffold_100000_HRSCAF_104010\t154\t512\t.\t 3.6\t-\tRepeatMasker\tsimilarity\t.\tTarget \"Motif:rnd-1_family-797\" 98 455\n",
      "Scaffold_100001_HRSCAF_104011\t6\t338\t.\t28.1\t+\tRepeatMasker\tsimilarity\t.\tTarget \"Motif:rnd-1_family-425\" 451 776\n",
      "Scaffold_100001_HRSCAF_104011\t335\t400\t.\t 0.0\t+\tRepeatMasker\tsimilarity\t.\tTarget \"Motif:rnd-1_family-866\" 338 402\n",
      "Scaffold_100001_HRSCAF_104011\t399\t512\t.\t 2.7\t-\tRepeatMasker\tsimilarity\t.\tTarget \"Motif:rnd-1_family-608\" 3645 3756\n"
     ]
    }
   ],
   "source": [
    "%%bash\n",
    "#gff2bed < /drives/raid/AboobakerLab/manuel/data_phaw_analysis/repeats_gapFilledAsm/phaw_sambaAsm.scaff_seqs_editedScafNames.fa.out.gff > phaw_sambaAms_TEs.bed\n",
    "head -5  /drives/ssd1/manuel/phaw/2022_analysis/te_analysis/te_methylation/phaw_sambaAms_TEs.bed"
   ]
  },
  {
   "cell_type": "markdown",
   "id": "c05c6320-4055-4a6e-8e8e-192677cb27c1",
   "metadata": {},
   "source": [
    "##### 3.2 Identify feature-specific TEs:"
   ]
  },
  {
   "cell_type": "code",
   "execution_count": 18,
   "id": "8b8e980a-2ee1-40d9-b7a7-e5ec3799eda3",
   "metadata": {},
   "outputs": [
    {
     "name": "stdout",
     "output_type": "stream",
     "text": [
      "Scaffold_100000_HRSCAF_104010\t1\t158\t.\t10.2\t+\tTarget \"Motif:rnd-5_family-509\" 1133 1293\n",
      "Scaffold_100000_HRSCAF_104010\t154\t512\t.\t 3.6\t-\tTarget \"Motif:rnd-1_family-797\" 98 455\n",
      "Scaffold_100001_HRSCAF_104011\t6\t338\t.\t28.1\t+\tTarget \"Motif:rnd-1_family-425\" 451 776\n",
      "Scaffold_100001_HRSCAF_104011\t335\t400\t.\t 0.0\t+\tTarget \"Motif:rnd-1_family-866\" 338 402\n",
      "Scaffold_100001_HRSCAF_104011\t399\t512\t.\t 2.7\t-\tTarget \"Motif:rnd-1_family-608\" 3645 3756\n"
     ]
    }
   ],
   "source": [
    "%%bash\n",
    "\n",
    "#Intronic:\n",
    "#bedtools intersect -wa -f 0.75 -s -a phaw_sambaAms_TEs.bed -b /drives/ssd1/manuel/phaw/2022_analysis/mzt_analysis/bin_coverage_analysis/transcripts_MultiExon_exon.bed > exonicTEs.bed\n",
    "\n",
    "#Exonic:\n",
    "#bedtools intersect -wa -f 0.75 -s -a phaw_sambaAms_TEs.bed -b /drives/ssd1/manuel/phaw/2022_analysis/mzt_analysis/bin_coverage_analysis/transcripts_MultiExon_intron.bed > intronicTEs.bed\n",
    "\n",
    "#Intergenic:\n",
    "#bedtools intersect -wa -wb -f 0.75 -v -s -a phaw_sambaAms_TEs.bed  -b /drives/ssd1/manuel/phaw/2022_analysis/mzt_analysis/bin_coverage_analysis/unigenes_transcripts_MultiExon.bed | cut -f 1,2,3,4,5,6,10,14 > intergenicTEs.bed\n",
    "\n",
    "head -5  /drives/ssd1/manuel/phaw/2022_analysis/te_analysis/te_methylation/intergenicTEs.bed"
   ]
  }
 ],
 "metadata": {
  "kernelspec": {
   "display_name": "Python 3",
   "language": "python",
   "name": "python3"
  },
  "language_info": {
   "codemirror_mode": {
    "name": "ipython",
    "version": 3
   },
   "file_extension": ".py",
   "mimetype": "text/x-python",
   "name": "python",
   "nbconvert_exporter": "python",
   "pygments_lexer": "ipython3",
   "version": "3.9.2"
  }
 },
 "nbformat": 4,
 "nbformat_minor": 5
}
